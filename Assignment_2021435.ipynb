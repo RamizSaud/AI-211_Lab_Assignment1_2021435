{
 "cells": [
  {
   "cell_type": "code",
   "execution_count": 1,
   "id": "fdf45d81",
   "metadata": {},
   "outputs": [],
   "source": [
    "import numpy as np\n",
    "import matplotlib.pyplot as plt\n",
    "import time"
   ]
  },
  {
   "cell_type": "markdown",
   "id": "4dc65e5d",
   "metadata": {},
   "source": [
    "# Task 1"
   ]
  },
  {
   "cell_type": "code",
   "execution_count": 2,
   "id": "bad3dea5",
   "metadata": {},
   "outputs": [],
   "source": [
    "class Node:\n",
    "    def __init__(self, data):\n",
    "        self.left = None\n",
    "        self.right = None\n",
    "        self.data = data\n",
    "\n",
    "    def insert(self, data):\n",
    "        if self.data:\n",
    "            if data < self.data:\n",
    "                if self.left is None:\n",
    "                    self.left = Node(data)\n",
    "                else:\n",
    "                    self.left.insert(data)\n",
    "            elif data > self.data:\n",
    "                if self.right is None:\n",
    "                    self.right = Node(data)\n",
    "                else:\n",
    "                    self.right.insert(data)\n",
    "        else:\n",
    "            self.data = data\n",
    "\n",
    "    def PrintTree(self):\n",
    "        if self.left:\n",
    "            self.left.PrintTree()\n",
    "        print(self.data),\n",
    "        if self.right:\n",
    "            self.right.PrintTree()\n",
    "\n",
    "class Tree:\n",
    "    def __init__(self,data):\n",
    "        self.root = Node(data[0])\n",
    "        for i in range(1,len(data)):\n",
    "            self.root.insert(data[i])\n",
    "    \n",
    "    def bfs(self):\n",
    "        temp = self.root\n",
    "        queue = []\n",
    "        queue.append(temp)\n",
    "\n",
    "        while queue:\n",
    "            temp = queue.pop(0)\n",
    "#             if temp.data==120:\n",
    "#                 print(temp.data,end=\" \")\n",
    "#                 return\n",
    "            if temp.left:\n",
    "                queue.append(temp.left)\n",
    "            if temp.right:\n",
    "                queue.append(temp.right)\n",
    "    \n",
    "    def dfs(self):\n",
    "        temp = self.root\n",
    "        stack = []\n",
    "        \n",
    "        while temp!=None or len(stack)!=0:\n",
    "            while (temp!=None):\n",
    "                stack.append(temp)\n",
    "#                 if temp.data==120:\n",
    "#                     print(temp.data, end=\" \")\n",
    "#                     return\n",
    "                temp = temp.left\n",
    "            temp = stack.pop(-1)\n",
    "            temp = temp.right"
   ]
  },
  {
   "cell_type": "markdown",
   "id": "42530147",
   "metadata": {},
   "source": [
    "# Task 2"
   ]
  },
  {
   "cell_type": "markdown",
   "id": "77ecf679",
   "metadata": {},
   "source": [
    "## 1. 2. 3. 4."
   ]
  },
  {
   "cell_type": "code",
   "execution_count": 3,
   "id": "21300b08",
   "metadata": {},
   "outputs": [],
   "source": [
    "list1 = np.random.randint(1500000,size=1000)\n",
    "indexes1 = np.unique(list1,return_index=True)[1]\n",
    "list_1k = np.array([list1[index] for index in sorted(indexes1)])\n",
    "\n",
    "list1 = np.random.randint(1500000,size=40000)\n",
    "indexes1 = np.unique(list1,return_index=True)[1]\n",
    "list_40k = np.array([list1[index] for index in sorted(indexes1)])\n",
    "\n",
    "list1 = np.random.randint(1500000,size=80000)\n",
    "indexes1 = np.unique(list1,return_index=True)[1]\n",
    "list_80k = np.array([list1[index] for index in sorted(indexes1)])\n",
    "\n",
    "list1 = np.random.randint(1500000,size=200000)\n",
    "indexes1 = np.unique(list1,return_index=True)[1]\n",
    "list_200k = np.array([list1[index] for index in sorted(indexes1)])\n",
    "\n",
    "list1 = np.random.randint(1500000,size=1500000)\n",
    "indexes1 = np.unique(list1,return_index=True)[1]\n",
    "list_1M = np.array([list1[index] for index in sorted(indexes1)])\n",
    "\n",
    "bfs = []\n",
    "dfs = []\n",
    "labels = ['1k','40k','80k','200k','1M']\n",
    "tree_1k = Tree(list_1k)\n",
    "start = time.time()\n",
    "tree_1k.bfs()\n",
    "end = time.time()\n",
    "bfs.append(end-start)\n",
    "start = time.time()\n",
    "tree_1k.dfs()\n",
    "end = time.time()\n",
    "dfs.append(end-start)\n",
    "\n",
    "tree_40k = Tree(list_40k)\n",
    "start = time.time()\n",
    "tree_40k.bfs()\n",
    "end = time.time()\n",
    "bfs.append(end-start)\n",
    "start = time.time()\n",
    "tree_40k.dfs()\n",
    "end = time.time()\n",
    "dfs.append(end-start)\n",
    "\n",
    "tree_80k = Tree(list_80k)\n",
    "start = time.time()\n",
    "tree_80k.bfs()\n",
    "end = time.time()\n",
    "bfs.append(end-start)\n",
    "start = time.time()\n",
    "tree_80k.dfs()\n",
    "end = time.time()\n",
    "dfs.append(end-start)\n",
    "\n",
    "tree_200k = Tree(list_200k)\n",
    "start = time.time()\n",
    "tree_200k.bfs()\n",
    "end = time.time()\n",
    "bfs.append(end-start)\n",
    "start = time.time()\n",
    "tree_200k.dfs()\n",
    "end = time.time()\n",
    "dfs.append(end-start)\n",
    "\n",
    "tree_1M = Tree(list_1M)\n",
    "start = time.time()\n",
    "tree_1M.bfs()\n",
    "end = time.time()\n",
    "bfs.append(end-start)\n",
    "start = time.time()\n",
    "tree_1M.dfs()\n",
    "end = time.time()\n",
    "dfs.append(end-start)"
   ]
  },
  {
   "cell_type": "markdown",
   "id": "80f476d9",
   "metadata": {},
   "source": [
    "## 5."
   ]
  },
  {
   "cell_type": "code",
   "execution_count": 8,
   "id": "7823df49",
   "metadata": {},
   "outputs": [
    {
     "data": {
      "image/png": "[encoded data removed]",
      "text/plain": [
       "<Figure size 432x288 with 1 Axes>"
      ]
     },
     "metadata": {
      "needs_background": "light"
     },
     "output_type": "display_data"
    }
   ],
   "source": [
    "x_axis = np.arange(len(labels[0:-1]))\n",
    "plt.bar(x_axis-0.2,bfs[0:-1],width=0.4,label='BFS')\n",
    "plt.bar(x_axis+0.2,dfs[0:-1],width=0.4,label='DFS')\n",
    "plt.xticks(x_axis, labels[0:-1])\n",
    "plt.xlabel(\"Length of Data\")\n",
    "plt.ylabel(\"Time\")\n",
    "plt.title(\"BFS vs DFS\")\n",
    "plt.legend()\n",
    "plt.show()"
   ]
  },
  {
   "cell_type": "code",
   "execution_count": 9,
   "id": "c82cfb13",
   "metadata": {},
   "outputs": [
    {
     "data": {
      "image/png": "[encoded data removed]",
      "text/plain": [
       "<Figure size 432x288 with 1 Axes>"
      ]
     },
     "metadata": {
      "needs_background": "light"
     },
     "output_type": "display_data"
    }
   ],
   "source": [
    "x_axis = np.arange(len(([labels[-1]])))\n",
    "plt.bar(x_axis-0.2,bfs[-1],width=0.4,label='BFS')\n",
    "plt.bar(x_axis+0.2,dfs[-1],width=0.4,label='DFS')\n",
    "plt.xticks(x_axis, [labels[-1]])\n",
    "plt.xlabel(\"Length of Data\")\n",
    "plt.ylabel(\"Time\")\n",
    "plt.title(\"BFS vs DFS\")\n",
    "plt.legend()\n",
    "plt.show()"
   ]
  },
  {
   "cell_type": "markdown",
   "id": "6ee09691",
   "metadata": {},
   "source": [
    "# Task 3"
   ]
  },
  {
   "cell_type": "markdown",
   "id": "ec5633a8",
   "metadata": {},
   "source": [
    "## 1."
   ]
  },
  {
   "cell_type": "code",
   "execution_count": 1,
   "id": "18109682",
   "metadata": {},
   "outputs": [],
   "source": [
    "from binarytree import build"
   ]
  },
  {
   "cell_type": "code",
   "execution_count": 27,
   "id": "8fc3cc57",
   "metadata": {
    "scrolled": true
   },
   "outputs": [
    {
     "name": "stdout",
     "output_type": "stream",
     "text": [
      "\n",
      "              __10_________\n",
      "             /             \\\n",
      "        ____8           ____15___\n",
      "       /     \\         /         \\\n",
      "    __4       9      _12         _18\n",
      "   /   \\            /   \\       /   \\\n",
      "  2     5          11    13    16    19\n",
      " / \\     \\                             \\\n",
      "1   3     7                             20\n",
      "\n"
     ]
    }
   ],
   "source": [
    "values = [10, 8, 15, 4, 9, 12, 18, 2, 5, None, None,\n",
    "          11, 13, 16, 19, 1, 3,None, 7,None,None,\n",
    "          None,None,None,None,None,None,None,None,None,20]\n",
    "root = build(values)\n",
    "print(root)"
   ]
  },
  {
   "cell_type": "markdown",
   "id": "73aecb51",
   "metadata": {},
   "source": [
    "## 2."
   ]
  },
  {
   "cell_type": "code",
   "execution_count": 30,
   "id": "c5753a44",
   "metadata": {},
   "outputs": [],
   "source": [
    "from anytree import Node, RenderTree"
   ]
  },
  {
   "cell_type": "code",
   "execution_count": 42,
   "id": "be1973c3",
   "metadata": {},
   "outputs": [],
   "source": [
    "root = Node(\"10\" ,children=[\n",
    "    Node(\"8\", children=[\n",
    "        Node('4', children=[\n",
    "            Node('2', children=[\n",
    "                Node('1'),\n",
    "                Node('3')\n",
    "            ]),\n",
    "            Node('5', children=[\n",
    "                Node('7')\n",
    "            ])\n",
    "        ]),\n",
    "        Node('9')\n",
    "    ]),\n",
    "    Node('15', children=[\n",
    "        Node('12', children=[\n",
    "            Node('11'),\n",
    "            Node('13')\n",
    "        ]),\n",
    "        Node('18', children=[\n",
    "            Node('16'),\n",
    "            Node('19', children=[\n",
    "                Node('20')\n",
    "            ])\n",
    "        ])\n",
    "    ])\n",
    "])\n"
   ]
  },
  {
   "cell_type": "code",
   "execution_count": 43,
   "id": "87f9da3a",
   "metadata": {},
   "outputs": [
    {
     "name": "stdout",
     "output_type": "stream",
     "text": [
      "Node('/10')\n",
      "├── Node('/10/8')\n",
      "│   ├── Node('/10/8/4')\n",
      "│   │   ├── Node('/10/8/4/2')\n",
      "│   │   │   ├── Node('/10/8/4/2/1')\n",
      "│   │   │   └── Node('/10/8/4/2/3')\n",
      "│   │   └── Node('/10/8/4/5')\n",
      "│   │       └── Node('/10/8/4/5/7')\n",
      "│   └── Node('/10/8/9')\n",
      "└── Node('/10/15')\n",
      "    ├── Node('/10/15/12')\n",
      "    │   ├── Node('/10/15/12/11')\n",
      "    │   └── Node('/10/15/12/13')\n",
      "    └── Node('/10/15/18')\n",
      "        ├── Node('/10/15/18/16')\n",
      "        └── Node('/10/15/18/19')\n",
      "            └── Node('/10/15/18/19/20')\n"
     ]
    }
   ],
   "source": [
    "print(RenderTree(root))"
   ]
  },
  {
   "cell_type": "markdown",
   "id": "1288bc3b",
   "metadata": {},
   "source": [
    "## 3."
   ]
  },
  {
   "cell_type": "code",
   "execution_count": 44,
   "id": "eb576bf9",
   "metadata": {},
   "outputs": [],
   "source": [
    "from treelib import Node, Tree"
   ]
  },
  {
   "cell_type": "code",
   "execution_count": 52,
   "id": "2052d11e",
   "metadata": {},
   "outputs": [
    {
     "name": "stdout",
     "output_type": "stream",
     "text": [
      "10\n",
      "├── 15\n",
      "│   ├── 12\n",
      "│   │   ├── 11\n",
      "│   │   └── 13\n",
      "│   └── 18\n",
      "│       ├── 16\n",
      "│       └── 19\n",
      "│           └── 20\n",
      "└── 8\n",
      "    ├── 4\n",
      "    │   ├── 2\n",
      "    │   │   ├── 1\n",
      "    │   │   └── 3\n",
      "    │   └── 5\n",
      "    │       └── 7\n",
      "    └── 9\n",
      "\n"
     ]
    }
   ],
   "source": [
    "tree = Tree()\n",
    "tree.create_node('10','10')\n",
    "tree.create_node('8','8',parent='10')\n",
    "tree.create_node('15','15',parent='10')\n",
    "tree.create_node('4','4',parent='8')\n",
    "tree.create_node('9','9',parent='8')\n",
    "tree.create_node('12','12',parent='15')\n",
    "tree.create_node('18','18',parent='15')\n",
    "tree.create_node('2','2',parent='4')\n",
    "tree.create_node('5','5',parent='4')\n",
    "tree.create_node('11','11',parent='12')\n",
    "tree.create_node('13','13',parent='12')\n",
    "tree.create_node('16','16',parent='18')\n",
    "tree.create_node('19','19',parent='18')\n",
    "tree.create_node('1','1',parent='2')\n",
    "tree.create_node('3','3',parent='2')\n",
    "tree.create_node('7','7',parent='5')\n",
    "tree.create_node('20','20',parent='19')\n",
    "tree.show()"
   ]
  },
  {
   "cell_type": "markdown",
   "id": "291965a2",
   "metadata": {},
   "source": [
    "## 4."
   ]
  },
  {
   "cell_type": "code",
   "execution_count": 1,
   "id": "854f9a43",
   "metadata": {},
   "outputs": [],
   "source": [
    "import turtle as t"
   ]
  },
  {
   "cell_type": "code",
   "execution_count": 2,
   "id": "40a5debf",
   "metadata": {},
   "outputs": [],
   "source": [
    "values = [10,8,4,2,1,3,5,\"\",7,9,\"\",\"\",\"\",\n",
    "          \"\",\"\",\"\",15,12,11,\"\",\"\",13,\n",
    "          \"\",\"\",18,16,\"\",\"\",19,\"\",20]\n",
    "i = 0\n",
    "def tree(d,x1,y1):\n",
    "    global i\n",
    "    if d==0: #base case\n",
    "        return 0\n",
    "    \n",
    "    a = t.Turtle()\n",
    "    b = t.Turtle()\n",
    "    \n",
    "    a.hideturtle()\n",
    "    b.hideturtle()\n",
    "\n",
    "    a.penup()\n",
    "    b.penup()\n",
    "\n",
    "    a.goto(x1,y1)\n",
    "    b.goto(x1,y1) # move to the correct position\n",
    "\n",
    "    a.pendown()\n",
    "    a.write(values[i],font=('arial',20,'bold'),align='center')\n",
    "    i=i+1\n",
    "    b.pendown()\n",
    "\n",
    "    a.right(135)\n",
    "    b.right(45)\n",
    "    #if values[i]!=\"\":\n",
    "    a.forward(10*(2**d)) \n",
    "    #if values[i+1]!=\"\":\n",
    "    b.forward(10*(2**d))\n",
    "\n",
    "    ax,ay = a.pos() #get position of new turtles\n",
    "    bx,by = b.pos()\n",
    "\n",
    "    tree(d-1,ax,ay)  #recurse top branch\n",
    "    tree(d-1,bx,by)  #recurse bottom branch\n",
    "    \n",
    "tree(5,0,200)"
   ]
  },
  {
   "cell_type": "markdown",
   "id": "bfc52db6",
   "metadata": {},
   "source": [
    "## 5."
   ]
  },
  {
   "cell_type": "code",
   "execution_count": 1,
   "id": "5bc263a3",
   "metadata": {},
   "outputs": [],
   "source": [
    "import graphviz"
   ]
  },
  {
   "cell_type": "code",
   "execution_count": 2,
   "id": "e3f9dd59",
   "metadata": {},
   "outputs": [
    {
     "data": {
      "image/svg+xml": [
       "<?xml version=\"1.0\" encoding=\"UTF-8\" standalone=\"no\"?>\n",
       "<!DOCTYPE svg PUBLIC \"-//W3C//DTD SVG 1.1//EN\"\n",
       " \"http://www.w3.org/Graphics/SVG/1.1/DTD/svg11.dtd\">\n",
       "<!-- Generated by graphviz version 7.1.0 (20230121.1956)\n",
       " -->\n",
       "<!-- Pages: 1 -->\n",
       "<svg width=\"494pt\" height=\"332pt\"\n",
       " viewBox=\"0.00 0.00 494.00 332.00\" xmlns=\"http://www.w3.org/2000/svg\" xmlns:xlink=\"http://www.w3.org/1999/xlink\">\n",
       "<g id=\"graph0\" class=\"graph\" transform=\"scale(1 1) rotate(0) translate(4 328)\">\n",
       "<polygon fill=\"white\" stroke=\"none\" points=\"-4,4 -4,-328 490,-328 490,4 -4,4\"/>\n",
       "<!-- 10 -->\n",
       "<g id=\"node1\" class=\"node\">\n",
       "<title>10</title>\n",
       "<ellipse fill=\"none\" stroke=\"black\" cx=\"279\" cy=\"-306\" rx=\"27\" ry=\"18\"/>\n",
       "<text text-anchor=\"middle\" x=\"279\" y=\"-302.3\" font-family=\"Times New Roman,serif\" font-size=\"14.00\">10</text>\n",
       "</g>\n",
       "<!-- 8 -->\n",
       "<g id=\"node2\" class=\"node\">\n",
       "<title>8</title>\n",
       "<ellipse fill=\"none\" stroke=\"black\" cx=\"243\" cy=\"-234\" rx=\"27\" ry=\"18\"/>\n",
       "<text text-anchor=\"middle\" x=\"243\" y=\"-230.3\" font-family=\"Times New Roman,serif\" font-size=\"14.00\">8</text>\n",
       "</g>\n",
       "<!-- 10&#45;&gt;8 -->\n",
       "<g id=\"edge1\" class=\"edge\">\n",
       "<title>10&#45;&gt;8</title>\n",
       "<path fill=\"none\" stroke=\"black\" d=\"M270.65,-288.76C266.42,-280.55 261.19,-270.37 256.42,-261.09\"/>\n",
       "<polygon fill=\"black\" stroke=\"black\" points=\"259.68,-259.79 252,-252.49 253.46,-262.99 259.68,-259.79\"/>\n",
       "</g>\n",
       "<!-- 15 -->\n",
       "<g id=\"node3\" class=\"node\">\n",
       "<title>15</title>\n",
       "<ellipse fill=\"none\" stroke=\"black\" cx=\"315\" cy=\"-234\" rx=\"27\" ry=\"18\"/>\n",
       "<text text-anchor=\"middle\" x=\"315\" y=\"-230.3\" font-family=\"Times New Roman,serif\" font-size=\"14.00\">15</text>\n",
       "</g>\n",
       "<!-- 10&#45;&gt;15 -->\n",
       "<g id=\"edge2\" class=\"edge\">\n",
       "<title>10&#45;&gt;15</title>\n",
       "<path fill=\"none\" stroke=\"black\" d=\"M287.35,-288.76C291.58,-280.55 296.81,-270.37 301.58,-261.09\"/>\n",
       "<polygon fill=\"black\" stroke=\"black\" points=\"304.54,-262.99 306,-252.49 298.32,-259.79 304.54,-262.99\"/>\n",
       "</g>\n",
       "<!-- 4 -->\n",
       "<g id=\"node4\" class=\"node\">\n",
       "<title>4</title>\n",
       "<ellipse fill=\"none\" stroke=\"black\" cx=\"171\" cy=\"-162\" rx=\"27\" ry=\"18\"/>\n",
       "<text text-anchor=\"middle\" x=\"171\" y=\"-158.3\" font-family=\"Times New Roman,serif\" font-size=\"14.00\">4</text>\n",
       "</g>\n",
       "<!-- 8&#45;&gt;4 -->\n",
       "<g id=\"edge3\" class=\"edge\">\n",
       "<title>8&#45;&gt;4</title>\n",
       "<path fill=\"none\" stroke=\"black\" d=\"M228.08,-218.5C218.23,-208.92 205.14,-196.19 193.97,-185.34\"/>\n",
       "<polygon fill=\"black\" stroke=\"black\" points=\"196.59,-183 186.98,-178.54 191.71,-188.02 196.59,-183\"/>\n",
       "</g>\n",
       "<!-- 9 -->\n",
       "<g id=\"node5\" class=\"node\">\n",
       "<title>9</title>\n",
       "<ellipse fill=\"none\" stroke=\"black\" cx=\"243\" cy=\"-162\" rx=\"27\" ry=\"18\"/>\n",
       "<text text-anchor=\"middle\" x=\"243\" y=\"-158.3\" font-family=\"Times New Roman,serif\" font-size=\"14.00\">9</text>\n",
       "</g>\n",
       "<!-- 8&#45;&gt;9 -->\n",
       "<g id=\"edge4\" class=\"edge\">\n",
       "<title>8&#45;&gt;9</title>\n",
       "<path fill=\"none\" stroke=\"black\" d=\"M243,-215.7C243,-208.41 243,-199.73 243,-191.54\"/>\n",
       "<polygon fill=\"black\" stroke=\"black\" points=\"246.5,-191.62 243,-181.62 239.5,-191.62 246.5,-191.62\"/>\n",
       "</g>\n",
       "<!-- 12 -->\n",
       "<g id=\"node6\" class=\"node\">\n",
       "<title>12</title>\n",
       "<ellipse fill=\"none\" stroke=\"black\" cx=\"315\" cy=\"-162\" rx=\"27\" ry=\"18\"/>\n",
       "<text text-anchor=\"middle\" x=\"315\" y=\"-158.3\" font-family=\"Times New Roman,serif\" font-size=\"14.00\">12</text>\n",
       "</g>\n",
       "<!-- 15&#45;&gt;12 -->\n",
       "<g id=\"edge5\" class=\"edge\">\n",
       "<title>15&#45;&gt;12</title>\n",
       "<path fill=\"none\" stroke=\"black\" d=\"M315,-215.7C315,-208.41 315,-199.73 315,-191.54\"/>\n",
       "<polygon fill=\"black\" stroke=\"black\" points=\"318.5,-191.62 315,-181.62 311.5,-191.62 318.5,-191.62\"/>\n",
       "</g>\n",
       "<!-- 18 -->\n",
       "<g id=\"node7\" class=\"node\">\n",
       "<title>18</title>\n",
       "<ellipse fill=\"none\" stroke=\"black\" cx=\"387\" cy=\"-162\" rx=\"27\" ry=\"18\"/>\n",
       "<text text-anchor=\"middle\" x=\"387\" y=\"-158.3\" font-family=\"Times New Roman,serif\" font-size=\"14.00\">18</text>\n",
       "</g>\n",
       "<!-- 15&#45;&gt;18 -->\n",
       "<g id=\"edge6\" class=\"edge\">\n",
       "<title>15&#45;&gt;18</title>\n",
       "<path fill=\"none\" stroke=\"black\" d=\"M329.92,-218.5C339.77,-208.92 352.86,-196.19 364.03,-185.34\"/>\n",
       "<polygon fill=\"black\" stroke=\"black\" points=\"366.29,-188.02 371.02,-178.54 361.41,-183 366.29,-188.02\"/>\n",
       "</g>\n",
       "<!-- 2 -->\n",
       "<g id=\"node8\" class=\"node\">\n",
       "<title>2</title>\n",
       "<ellipse fill=\"none\" stroke=\"black\" cx=\"99\" cy=\"-90\" rx=\"27\" ry=\"18\"/>\n",
       "<text text-anchor=\"middle\" x=\"99\" y=\"-86.3\" font-family=\"Times New Roman,serif\" font-size=\"14.00\">2</text>\n",
       "</g>\n",
       "<!-- 4&#45;&gt;2 -->\n",
       "<g id=\"edge7\" class=\"edge\">\n",
       "<title>4&#45;&gt;2</title>\n",
       "<path fill=\"none\" stroke=\"black\" d=\"M156.08,-146.5C146.23,-136.92 133.14,-124.19 121.97,-113.34\"/>\n",
       "<polygon fill=\"black\" stroke=\"black\" points=\"124.59,-111 114.98,-106.54 119.71,-116.02 124.59,-111\"/>\n",
       "</g>\n",
       "<!-- 5 -->\n",
       "<g id=\"node9\" class=\"node\">\n",
       "<title>5</title>\n",
       "<ellipse fill=\"none\" stroke=\"black\" cx=\"171\" cy=\"-90\" rx=\"27\" ry=\"18\"/>\n",
       "<text text-anchor=\"middle\" x=\"171\" y=\"-86.3\" font-family=\"Times New Roman,serif\" font-size=\"14.00\">5</text>\n",
       "</g>\n",
       "<!-- 4&#45;&gt;5 -->\n",
       "<g id=\"edge8\" class=\"edge\">\n",
       "<title>4&#45;&gt;5</title>\n",
       "<path fill=\"none\" stroke=\"black\" d=\"M171,-143.7C171,-136.41 171,-127.73 171,-119.54\"/>\n",
       "<polygon fill=\"black\" stroke=\"black\" points=\"174.5,-119.62 171,-109.62 167.5,-119.62 174.5,-119.62\"/>\n",
       "</g>\n",
       "<!-- 11 -->\n",
       "<g id=\"node10\" class=\"node\">\n",
       "<title>11</title>\n",
       "<ellipse fill=\"none\" stroke=\"black\" cx=\"243\" cy=\"-90\" rx=\"27\" ry=\"18\"/>\n",
       "<text text-anchor=\"middle\" x=\"243\" y=\"-86.3\" font-family=\"Times New Roman,serif\" font-size=\"14.00\">11</text>\n",
       "</g>\n",
       "<!-- 12&#45;&gt;11 -->\n",
       "<g id=\"edge9\" class=\"edge\">\n",
       "<title>12&#45;&gt;11</title>\n",
       "<path fill=\"none\" stroke=\"black\" d=\"M300.08,-146.5C290.23,-136.92 277.14,-124.19 265.97,-113.34\"/>\n",
       "<polygon fill=\"black\" stroke=\"black\" points=\"268.59,-111 258.98,-106.54 263.71,-116.02 268.59,-111\"/>\n",
       "</g>\n",
       "<!-- 13 -->\n",
       "<g id=\"node11\" class=\"node\">\n",
       "<title>13</title>\n",
       "<ellipse fill=\"none\" stroke=\"black\" cx=\"315\" cy=\"-90\" rx=\"27\" ry=\"18\"/>\n",
       "<text text-anchor=\"middle\" x=\"315\" y=\"-86.3\" font-family=\"Times New Roman,serif\" font-size=\"14.00\">13</text>\n",
       "</g>\n",
       "<!-- 12&#45;&gt;13 -->\n",
       "<g id=\"edge10\" class=\"edge\">\n",
       "<title>12&#45;&gt;13</title>\n",
       "<path fill=\"none\" stroke=\"black\" d=\"M315,-143.7C315,-136.41 315,-127.73 315,-119.54\"/>\n",
       "<polygon fill=\"black\" stroke=\"black\" points=\"318.5,-119.62 315,-109.62 311.5,-119.62 318.5,-119.62\"/>\n",
       "</g>\n",
       "<!-- 16 -->\n",
       "<g id=\"node12\" class=\"node\">\n",
       "<title>16</title>\n",
       "<ellipse fill=\"none\" stroke=\"black\" cx=\"387\" cy=\"-90\" rx=\"27\" ry=\"18\"/>\n",
       "<text text-anchor=\"middle\" x=\"387\" y=\"-86.3\" font-family=\"Times New Roman,serif\" font-size=\"14.00\">16</text>\n",
       "</g>\n",
       "<!-- 18&#45;&gt;16 -->\n",
       "<g id=\"edge11\" class=\"edge\">\n",
       "<title>18&#45;&gt;16</title>\n",
       "<path fill=\"none\" stroke=\"black\" d=\"M387,-143.7C387,-136.41 387,-127.73 387,-119.54\"/>\n",
       "<polygon fill=\"black\" stroke=\"black\" points=\"390.5,-119.62 387,-109.62 383.5,-119.62 390.5,-119.62\"/>\n",
       "</g>\n",
       "<!-- 19 -->\n",
       "<g id=\"node13\" class=\"node\">\n",
       "<title>19</title>\n",
       "<ellipse fill=\"none\" stroke=\"black\" cx=\"459\" cy=\"-90\" rx=\"27\" ry=\"18\"/>\n",
       "<text text-anchor=\"middle\" x=\"459\" y=\"-86.3\" font-family=\"Times New Roman,serif\" font-size=\"14.00\">19</text>\n",
       "</g>\n",
       "<!-- 18&#45;&gt;19 -->\n",
       "<g id=\"edge12\" class=\"edge\">\n",
       "<title>18&#45;&gt;19</title>\n",
       "<path fill=\"none\" stroke=\"black\" d=\"M401.92,-146.5C411.77,-136.92 424.86,-124.19 436.03,-113.34\"/>\n",
       "<polygon fill=\"black\" stroke=\"black\" points=\"438.29,-116.02 443.02,-106.54 433.41,-111 438.29,-116.02\"/>\n",
       "</g>\n",
       "<!-- 1 -->\n",
       "<g id=\"node14\" class=\"node\">\n",
       "<title>1</title>\n",
       "<ellipse fill=\"none\" stroke=\"black\" cx=\"27\" cy=\"-18\" rx=\"27\" ry=\"18\"/>\n",
       "<text text-anchor=\"middle\" x=\"27\" y=\"-14.3\" font-family=\"Times New Roman,serif\" font-size=\"14.00\">1</text>\n",
       "</g>\n",
       "<!-- 2&#45;&gt;1 -->\n",
       "<g id=\"edge13\" class=\"edge\">\n",
       "<title>2&#45;&gt;1</title>\n",
       "<path fill=\"none\" stroke=\"black\" d=\"M84.08,-74.5C74.23,-64.92 61.14,-52.19 49.97,-41.34\"/>\n",
       "<polygon fill=\"black\" stroke=\"black\" points=\"52.59,-39 42.98,-34.54 47.71,-44.02 52.59,-39\"/>\n",
       "</g>\n",
       "<!-- 3 -->\n",
       "<g id=\"node15\" class=\"node\">\n",
       "<title>3</title>\n",
       "<ellipse fill=\"none\" stroke=\"black\" cx=\"99\" cy=\"-18\" rx=\"27\" ry=\"18\"/>\n",
       "<text text-anchor=\"middle\" x=\"99\" y=\"-14.3\" font-family=\"Times New Roman,serif\" font-size=\"14.00\">3</text>\n",
       "</g>\n",
       "<!-- 2&#45;&gt;3 -->\n",
       "<g id=\"edge14\" class=\"edge\">\n",
       "<title>2&#45;&gt;3</title>\n",
       "<path fill=\"none\" stroke=\"black\" d=\"M99,-71.7C99,-64.41 99,-55.73 99,-47.54\"/>\n",
       "<polygon fill=\"black\" stroke=\"black\" points=\"102.5,-47.62 99,-37.62 95.5,-47.62 102.5,-47.62\"/>\n",
       "</g>\n",
       "<!-- 7 -->\n",
       "<g id=\"node16\" class=\"node\">\n",
       "<title>7</title>\n",
       "<ellipse fill=\"none\" stroke=\"black\" cx=\"171\" cy=\"-18\" rx=\"27\" ry=\"18\"/>\n",
       "<text text-anchor=\"middle\" x=\"171\" y=\"-14.3\" font-family=\"Times New Roman,serif\" font-size=\"14.00\">7</text>\n",
       "</g>\n",
       "<!-- 5&#45;&gt;7 -->\n",
       "<g id=\"edge15\" class=\"edge\">\n",
       "<title>5&#45;&gt;7</title>\n",
       "<path fill=\"none\" stroke=\"black\" d=\"M171,-71.7C171,-64.41 171,-55.73 171,-47.54\"/>\n",
       "<polygon fill=\"black\" stroke=\"black\" points=\"174.5,-47.62 171,-37.62 167.5,-47.62 174.5,-47.62\"/>\n",
       "</g>\n",
       "<!-- 20 -->\n",
       "<g id=\"node17\" class=\"node\">\n",
       "<title>20</title>\n",
       "<ellipse fill=\"none\" stroke=\"black\" cx=\"459\" cy=\"-18\" rx=\"27\" ry=\"18\"/>\n",
       "<text text-anchor=\"middle\" x=\"459\" y=\"-14.3\" font-family=\"Times New Roman,serif\" font-size=\"14.00\">20</text>\n",
       "</g>\n",
       "<!-- 19&#45;&gt;20 -->\n",
       "<g id=\"edge16\" class=\"edge\">\n",
       "<title>19&#45;&gt;20</title>\n",
       "<path fill=\"none\" stroke=\"black\" d=\"M459,-71.7C459,-64.41 459,-55.73 459,-47.54\"/>\n",
       "<polygon fill=\"black\" stroke=\"black\" points=\"462.5,-47.62 459,-37.62 455.5,-47.62 462.5,-47.62\"/>\n",
       "</g>\n",
       "</g>\n",
       "</svg>\n"
      ],
      "text/plain": [
       "<graphviz.graphs.Digraph at 0x2886144e040>"
      ]
     },
     "execution_count": 2,
     "metadata": {},
     "output_type": "execute_result"
    }
   ],
   "source": [
    "t = graphviz.Digraph()\n",
    "t.edges([('10','8'),('10','15'),('8','4'),('8','9'),('15','12'),('15','18'),('4','2'),('4','5'),('12','11'),('12','13'),\n",
    "        ('18','16'),('18','19'),('2','1'),('2','3'),('5','7'),('19','20')])\n",
    "t"
   ]
  },
  {
   "cell_type": "markdown",
   "id": "1339f43b",
   "metadata": {},
   "source": [
    "# Task 4"
   ]
  },
  {
   "cell_type": "markdown",
   "id": "702a02db",
   "metadata": {},
   "source": [
    "## 2."
   ]
  },
  {
   "cell_type": "code",
   "execution_count": 10,
   "id": "47c389cc",
   "metadata": {},
   "outputs": [],
   "source": [
    "data = '''Arad Zerind 75\n",
    "Arad Timisoara 118\n",
    "Arad Sibiu 140\n",
    "Zerind Oradea 71\n",
    "Timisoara Lugoj 111\n",
    "Sibiu Oradea 151\n",
    "Sibiu Fagaras 99\n",
    "Sibiu Rimnicu-Vilcea 80\n",
    "Lugoj Mehadia 70\n",
    "Fagaras Bucharest 211\n",
    "Rimnicu-Vilcea Pitesti 97\n",
    "Rimnicu-Vilcea Craiova 146\n",
    "Mehadia Dobreta 75\n",
    "Dobreta Craiova 120\n",
    "Craiova Pitesti 138\n",
    "Pitesti Bucharest 101\n",
    "Bucharest Giurgiu 90\n",
    "Bucharest Urziceni 85\n",
    "Urziceni Hirsova 98\n",
    "Hirsova Eforie 86\n",
    "Urziceni Vaslui 142\n",
    "Vaslui Lasi 92\n",
    "Lasi Neamt 87\n",
    "'''\n",
    "data = data.split()"
   ]
  },
  {
   "cell_type": "code",
   "execution_count": 11,
   "id": "3d8ed8c0",
   "metadata": {},
   "outputs": [],
   "source": [
    "def convert_to_dict(data,is_directed=False):\n",
    "    data_dict = {}\n",
    "    for k in [[data[j] for j in range(i,i+3)] for i in range(0,len(data),3)]:\n",
    "        try:\n",
    "            data_dict[k[0]].append((k[1],int(k[2])))\n",
    "        except:\n",
    "            data_dict[k[0]] = []\n",
    "            data_dict[k[0]].append((k[1],int(k[2])))\n",
    "        if not(is_directed):\n",
    "            try:\n",
    "                data_dict[k[1]].append((k[0],int(k[2])))\n",
    "            except:\n",
    "                data_dict[k[1]] = []\n",
    "                data_dict[k[1]].append((k[0],int(k[2])))\n",
    "    return data_dict"
   ]
  },
  {
   "cell_type": "code",
   "execution_count": 12,
   "id": "d736fcf7",
   "metadata": {},
   "outputs": [
    {
     "data": {
      "text/plain": [
       "{'Arad': [('Zerind', 75), ('Timisoara', 118), ('Sibiu', 140)],\n",
       " 'Zerind': [('Arad', 75), ('Oradea', 71)],\n",
       " 'Timisoara': [('Arad', 118), ('Lugoj', 111)],\n",
       " 'Sibiu': [('Arad', 140),\n",
       "  ('Oradea', 151),\n",
       "  ('Fagaras', 99),\n",
       "  ('Rimnicu-Vilcea', 80)],\n",
       " 'Oradea': [('Zerind', 71), ('Sibiu', 151)],\n",
       " 'Lugoj': [('Timisoara', 111), ('Mehadia', 70)],\n",
       " 'Fagaras': [('Sibiu', 99), ('Bucharest', 211)],\n",
       " 'Rimnicu-Vilcea': [('Sibiu', 80), ('Pitesti', 97), ('Craiova', 146)],\n",
       " 'Mehadia': [('Lugoj', 70), ('Dobreta', 75)],\n",
       " 'Bucharest': [('Fagaras', 211),\n",
       "  ('Pitesti', 101),\n",
       "  ('Giurgiu', 90),\n",
       "  ('Urziceni', 85)],\n",
       " 'Pitesti': [('Rimnicu-Vilcea', 97), ('Craiova', 138), ('Bucharest', 101)],\n",
       " 'Craiova': [('Rimnicu-Vilcea', 146), ('Dobreta', 120), ('Pitesti', 138)],\n",
       " 'Dobreta': [('Mehadia', 75), ('Craiova', 120)],\n",
       " 'Giurgiu': [('Bucharest', 90)],\n",
       " 'Urziceni': [('Bucharest', 85), ('Hirsova', 98), ('Vaslui', 142)],\n",
       " 'Hirsova': [('Urziceni', 98), ('Eforie', 86)],\n",
       " 'Eforie': [('Hirsova', 86)],\n",
       " 'Vaslui': [('Urziceni', 142), ('Lasi', 92)],\n",
       " 'Lasi': [('Vaslui', 92), ('Neamt', 87)],\n",
       " 'Neamt': [('Lasi', 87)]}"
      ]
     },
     "execution_count": 12,
     "metadata": {},
     "output_type": "execute_result"
    }
   ],
   "source": [
    "convert_to_dict(data)"
   ]
  },
  {
   "cell_type": "markdown",
   "id": "29d4b327",
   "metadata": {},
   "source": [
    "## 1. 3. 4."
   ]
  },
  {
   "cell_type": "code",
   "execution_count": 31,
   "id": "9c459f66",
   "metadata": {},
   "outputs": [
    {
     "name": "stdout",
     "output_type": "stream",
     "text": [
      "Arad Sibiu Rimnicu-Vilcea Pitesti Bucharest Urziceni Hirsova Eforie\n"
     ]
    }
   ],
   "source": [
    "def UCS(graph,current_node, goal_node):\n",
    "    visited = []  \n",
    "    queue = []\n",
    "    queue.append((0, current_node, current_node))\n",
    "\n",
    "    while queue:\n",
    "        queue = sorted(queue, key=lambda x:x[0])\n",
    "        item = queue.pop(0)\n",
    "        current_cost = item[0]\n",
    "        current_node =  item[1]\n",
    "        current_path = item[2]\n",
    "\n",
    "        if current_node == goal_node:\n",
    "            print(current_path)\n",
    "            queue = []\n",
    "        else:\n",
    "            if current_node in visited:\n",
    "                continue\n",
    "\n",
    "            visited.append(current_node)\n",
    "\n",
    "            for neighbour in graph[current_node]:\n",
    "                queue.append((current_cost + neighbour[1], neighbour[0], current_path+\" \"+neighbour[0]))\n",
    "                \n",
    "UCS(convert_to_dict(data),'Arad','Eforie')"
   ]
  },
  {
   "cell_type": "markdown",
   "id": "2a4296d7",
   "metadata": {},
   "source": [
    "# Task 5"
   ]
  },
  {
   "cell_type": "code",
   "execution_count": 3,
   "id": "feb81973",
   "metadata": {},
   "outputs": [],
   "source": [
    "import networkx as nx\n",
    "import matplotlib.pyplot as plt"
   ]
  },
  {
   "cell_type": "code",
   "execution_count": 116,
   "id": "db874b9d",
   "metadata": {},
   "outputs": [],
   "source": [
    "g = nx.Graph()"
   ]
  },
  {
   "cell_type": "code",
   "execution_count": 117,
   "id": "b662148a",
   "metadata": {},
   "outputs": [],
   "source": [
    "g.add_weighted_edges_from([tuple(data[j] if (j+1)%3!=0 else int(data[j]) for j in range(i,i+3)) for i in range(0,len(data),3)])"
   ]
  },
  {
   "cell_type": "code",
   "execution_count": 123,
   "id": "b29b571d",
   "metadata": {},
   "outputs": [
    {
     "data": {
      "image/png": "[encoded data removed]",
      "text/plain": [
       "<Figure size 1080x1080 with 1 Axes>"
      ]
     },
     "metadata": {},
     "output_type": "display_data"
    }
   ],
   "source": [
    "pos = nx.spring_layout(g)\n",
    "plt.figure(figsize=(15,15))\n",
    "nx.draw_networkx_nodes(g, pos, node_size=5, node_shape='o', node_color='#ff0000')\n",
    "nx.draw_networkx_edges(g, pos, width=3, edge_color='y')\n",
    "nx.draw_networkx_labels(g, pos, font_size=13, font_family=\"sans-serif\")\n",
    "edge_labels = nx.get_edge_attributes(g, \"weight\")\n",
    "nx.draw_networkx_edge_labels(g, pos, edge_labels, font_size=13)\n",
    "plt.show()"
   ]
  },
  {
   "cell_type": "markdown",
   "id": "c3b6e750",
   "metadata": {},
   "source": [
    "# Task 6"
   ]
  },
  {
   "cell_type": "code",
   "execution_count": 1,
   "id": "331b59a9",
   "metadata": {},
   "outputs": [
    {
     "name": "stdout",
     "output_type": "stream",
     "text": [
      "1 0 0 0 0 0 0 0 \n",
      "0 0 0 0 1 0 0 0 \n",
      "0 0 0 0 0 0 0 1 \n",
      "0 0 0 0 0 1 0 0 \n",
      "0 0 1 0 0 0 0 0 \n",
      "0 0 0 0 0 0 1 0 \n",
      "0 1 0 0 0 0 0 0 \n",
      "0 0 0 1 0 0 0 0 \n",
      "\n"
     ]
    }
   ],
   "source": [
    "class node:\n",
    "    def __init__(self):\n",
    "        self.arr = [[0 for _ in range(8)] for _ in range(8)]\n",
    "        self.row = 0\n",
    "        self.column = 0\n",
    "        self.next = None\n",
    "def print_nodes(a):\n",
    "    for i in range(8):\n",
    "        for j in range(8):\n",
    "            print(a.arr[i][j],end=\" \")\n",
    "        print()\n",
    "    print()\n",
    "def valid(a):\n",
    "    #vartical\n",
    "    i = 0\n",
    "    while i<(a.row):\n",
    "        if a.arr[i][a.column] == 1:\n",
    "            #cout<<\"\\nfalse 1\\n\"\n",
    "            return False\n",
    "        i += 1\n",
    "    #digonal1\n",
    "    i = a.row-1\n",
    "    j = a.column-1\n",
    "    while i>=0 and j>=0:\n",
    "        if a.arr[i][j] == 1:\n",
    "            return False\n",
    "        i -= 1\n",
    "        j -= 1\n",
    "    #diagonal2\n",
    "    i = a.row-1\n",
    "    j = a.column+1\n",
    "    while i>=0 and j<8:\n",
    "        if a.arr[i][j] == 1:\n",
    "            return False\n",
    "        i -= 1\n",
    "        j += 1\n",
    "    return True\n",
    "def Queen8(a):\n",
    "    last = None\n",
    "    last = node()\n",
    "    t = 1\n",
    "    while a.row<8:\n",
    "        for i in range(0, 8):\n",
    "            b = None\n",
    "            b = node()\n",
    "            for j in range(0, 8):\n",
    "                for k in range(0, 8):\n",
    "                    b.arr[j][k] = a.arr[j][k]\n",
    "            b.row = a.row+1\n",
    "            b.column = i\n",
    "            b.arr[b.row][i] = 1\n",
    "            if t == 1 and valid(b):\n",
    "                a.next = b\n",
    "                last = b\n",
    "                last.next = None\n",
    "                t = 0\n",
    "            elif valid(b):\n",
    "                last.next = b\n",
    "                last = b\n",
    "                last.next = None\n",
    "            #print_nodes(b)\n",
    "        if a.next is not None:\n",
    "            a = a.next\n",
    "        #print(a)\n",
    "        if a.row == 7:\n",
    "            print_nodes(a)\n",
    "            return\n",
    "        \n",
    "a = None\n",
    "a = node()\n",
    "for i in range(0, 8):\n",
    "    for j in range(0, 8):\n",
    "        a.arr[i][j] = 0\n",
    "a.row = -1\n",
    "a.next = None\n",
    "Queen8(a)"
   ]
  },
  {
   "cell_type": "code",
   "execution_count": null,
   "id": "0e166729",
   "metadata": {},
   "outputs": [],
   "source": []
  }
 ],
 "metadata": {
  "kernelspec": {
   "display_name": "Python 3",
   "language": "python",
   "name": "python3"
  },
  "language_info": {
   "codemirror_mode": {
    "name": "ipython",
    "version": 3
   },
   "file_extension": ".py",
   "mimetype": "text/x-python",
   "name": "python",
   "nbconvert_exporter": "python",
   "pygments_lexer": "ipython3",
   "version": "3.8.8"
  }
 },
 "nbformat": 4,
 "nbformat_minor": 5
}
